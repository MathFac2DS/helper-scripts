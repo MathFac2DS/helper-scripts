{
 "cells": [
  {
   "cell_type": "code",
   "execution_count": 1,
   "id": "e922f430-980d-4b9a-8f6d-154d43bd2c89",
   "metadata": {
    "tags": []
   },
   "outputs": [],
   "source": [
    "# import the necessary libraries\n",
    "import numpy as np\n",
    "import pandas as pd\n",
    "import json"
   ]
  },
  {
   "cell_type": "code",
   "execution_count": null,
   "id": "34f153da-dc05-4d22-bc1a-0cf45370a4f5",
   "metadata": {},
   "outputs": [],
   "source": [
    "# set the client and file path\n",
    "client = \"\"\n",
    "file_path = \"\""
   ]
  },
  {
   "cell_type": "code",
   "execution_count": 2,
   "id": "0aa8e99b-bacc-4118-a381-b52aa07a3245",
   "metadata": {
    "tags": []
   },
   "outputs": [
    {
     "name": "stdout",
     "output_type": "stream",
     "text": [
      "Index(['content', 'embedding'], dtype='object')\n"
     ]
    }
   ],
   "source": [
    "# load the content embeddings\n",
    "content_embeddings_df = pd.read_json(file_path, lines = True)\n",
    "print(content_embeddings_df.columns)"
   ]
  },
  {
   "cell_type": "code",
   "execution_count": 3,
   "id": "168ebe1b-b961-49f2-b40d-2fbf3a4b2c77",
   "metadata": {
    "tags": []
   },
   "outputs": [],
   "source": [
    "# # for {client} content embeddings, columns of content_embeddings_df are 'content' and 'embedding'\n",
    "# trim 'content' to 20 characters\n",
    "content_embeddings_df['content'] = content_embeddings_df['content'].str[:20]"
   ]
  },
  {
   "cell_type": "code",
   "execution_count": 4,
   "id": "08eb3081-3ae8-4eaf-9331-9acba532a19c",
   "metadata": {
    "tags": []
   },
   "outputs": [],
   "source": [
    "# save the flat_keywords_df with embeddings to jsonl\n",
    "output_path = f\"/home/jupyter/ai/data/{client}/{client}_content_embeddings.jsonl\"\n",
    "content_embeddings_df.to_json(output_path, orient = 'records', lines = True)"
   ]
  },
  {
   "cell_type": "code",
   "execution_count": null,
   "id": "f4fa315d-7a9e-4098-a185-6cf36bf57ba6",
   "metadata": {},
   "outputs": [],
   "source": []
  }
 ],
 "metadata": {
  "environment": {
   "kernel": "conda-base-py",
   "name": "workbench-notebooks.m124",
   "type": "gcloud",
   "uri": "us-docker.pkg.dev/deeplearning-platform-release/gcr.io/workbench-notebooks:m124"
  },
  "kernelspec": {
   "display_name": "Python 3 (ipykernel) (Local)",
   "language": "python",
   "name": "conda-base-py"
  },
  "language_info": {
   "codemirror_mode": {
    "name": "ipython",
    "version": 3
   },
   "file_extension": ".py",
   "mimetype": "text/x-python",
   "name": "python",
   "nbconvert_exporter": "python",
   "pygments_lexer": "ipython3",
   "version": "3.10.14"
  }
 },
 "nbformat": 4,
 "nbformat_minor": 5
}
