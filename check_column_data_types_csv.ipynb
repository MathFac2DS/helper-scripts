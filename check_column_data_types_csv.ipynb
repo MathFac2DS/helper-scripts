{
 "cells": [
  {
   "cell_type": "code",
   "execution_count": 8,
   "id": "a57d4430-8dda-49c2-9b2b-0cc58d9b0f2f",
   "metadata": {
    "tags": []
   },
   "outputs": [],
   "source": [
    "import sys \n",
    "sys.path.append(\"/home/jupyter/ai/\")"
   ]
  },
  {
   "cell_type": "code",
   "execution_count": 10,
   "id": "73747332-e3db-4a6b-94b2-d212deb8e6ed",
   "metadata": {
    "tags": []
   },
   "outputs": [],
   "source": [
    "import pandas as pd\n",
    "import csv\n",
    "from src.hum_api import cdp, Content, Embedding\n",
    "import json"
   ]
  },
  {
   "cell_type": "code",
   "execution_count": null,
   "id": "cf1b2cec-c8af-41fe-86d1-adc55789d5eb",
   "metadata": {},
   "outputs": [],
   "source": [
    "# set the client and path\n",
    "client = \"\"\n",
    "csv_file_path = \"\""
   ]
  },
  {
   "cell_type": "code",
   "execution_count": 12,
   "id": "2622db16-067c-4139-bf28-2b46aca0749d",
   "metadata": {
    "tags": []
   },
   "outputs": [
    {
     "name": "stdout",
     "output_type": "stream",
     "text": [
      "Column Data Types:\n",
      "topic: str\n",
      "score: float64\n"
     ]
    }
   ],
   "source": [
    "def detect_column_types(series):\n",
    "    types = set(type(val).__name__ for val in series.dropna().unique())  # Drop NA to focus on actual data types\n",
    "    return types\n",
    "\n",
    "def report_column_data_types(csv_file_path):\n",
    "    # Read the CSV file\n",
    "    df = pd.read_csv(csv_file_path)\n",
    "    \n",
    "    # Report data types for each column\n",
    "    print(\"Column Data Types:\")\n",
    "    for column in df.columns:\n",
    "        column_types = detect_column_types(df[column])\n",
    "\n",
    "        if len(column_types) == 1:\n",
    "            dtype = list(column_types)[0]\n",
    "        else:\n",
    "            dtype = f\"mixed ({', '.join(column_types)})\"\n",
    "\n",
    "        print(f\"{column}: {dtype}\")\n"
   ]
  },
  {
   "cell_type": "code",
   "execution_count": 14,
   "id": "b1eb534b-37ab-4666-8c6d-008ae440943d",
   "metadata": {},
   "outputs": [
    {
     "name": "stdout",
     "output_type": "stream",
     "text": [
      "Column Data Types:\n",
      "topic: str\n",
      "score: float64\n"
     ]
    }
   ],
   "source": [
    "report_column_data_types(csv_file_path)"
   ]
  },
  {
   "cell_type": "code",
   "execution_count": null,
   "id": "a55872c0-5608-4bbc-a670-5ce43eb75ff3",
   "metadata": {},
   "outputs": [],
   "source": []
  }
 ],
 "metadata": {
  "environment": {
   "kernel": "conda-base-py",
   "name": "workbench-notebooks.m124",
   "type": "gcloud",
   "uri": "us-docker.pkg.dev/deeplearning-platform-release/gcr.io/workbench-notebooks:m124"
  },
  "kernelspec": {
   "display_name": "Python 3 (ipykernel) (Local)",
   "language": "python",
   "name": "conda-base-py"
  },
  "language_info": {
   "codemirror_mode": {
    "name": "ipython",
    "version": 3
   },
   "file_extension": ".py",
   "mimetype": "text/x-python",
   "name": "python",
   "nbconvert_exporter": "python",
   "pygments_lexer": "ipython3",
   "version": "3.10.14"
  }
 },
 "nbformat": 4,
 "nbformat_minor": 5
}
