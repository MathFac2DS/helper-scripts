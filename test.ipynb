{
 "cells": [
  {
   "cell_type": "code",
   "execution_count": 3,
   "id": "658b1707-efaa-41c9-95db-4fabe18c8d35",
   "metadata": {
    "tags": []
   },
   "outputs": [
    {
     "name": "stdout",
     "output_type": "stream",
     "text": [
      "[-0.5  1.5  2. ]\n"
     ]
    }
   ],
   "source": [
    "import numpy as np\n",
    "doc_centroid = np.mean([[0, 1, 1], [-1, 2, 3]], axis = 0)\n",
    "print(doc_centroid)"
   ]
  },
  {
   "cell_type": "code",
   "execution_count": 5,
   "id": "bb16bd56-c789-4e47-bb5b-e5ef9147cefb",
   "metadata": {
    "tags": []
   },
   "outputs": [
    {
     "data": {
      "text/plain": [
       "(3,)"
      ]
     },
     "execution_count": 5,
     "metadata": {},
     "output_type": "execute_result"
    }
   ],
   "source": [
    "doc_centroid.shape"
   ]
  },
  {
   "cell_type": "code",
   "execution_count": 6,
   "id": "4f0a40b1-79e3-4045-b9f0-0923b1557ec6",
   "metadata": {
    "tags": []
   },
   "outputs": [],
   "source": [
    "from sklearn.metrics.pairwise import cosine_similarity"
   ]
  },
  {
   "cell_type": "code",
   "execution_count": 7,
   "id": "493bf8bd-90a2-4313-9fdb-fc5aa09b3a13",
   "metadata": {
    "tags": []
   },
   "outputs": [],
   "source": [
    "tag_embedding = [[0, 1, 1]]"
   ]
  },
  {
   "cell_type": "code",
   "execution_count": 11,
   "id": "c09f974a-6074-4b14-bc84-6b43e94bdf6c",
   "metadata": {
    "tags": []
   },
   "outputs": [],
   "source": [
    "tag_similarity = cosine_similarity(tag_embedding, doc_centroid.reshape(1, -1)).flatten().item()"
   ]
  },
  {
   "cell_type": "code",
   "execution_count": 12,
   "id": "7e940384-1072-468b-bf13-a09f89aea9b6",
   "metadata": {
    "tags": []
   },
   "outputs": [
    {
     "name": "stdout",
     "output_type": "stream",
     "text": [
      "0.970725343394151\n"
     ]
    }
   ],
   "source": [
    "print(tag_similarity)"
   ]
  },
  {
   "cell_type": "code",
   "execution_count": 10,
   "id": "d6afd6e3-ee55-4c5f-860f-ea8a66b6a54d",
   "metadata": {
    "tags": []
   },
   "outputs": [
    {
     "data": {
      "text/plain": [
       "array([[-0.5,  1.5,  2. ]])"
      ]
     },
     "execution_count": 10,
     "metadata": {},
     "output_type": "execute_result"
    }
   ],
   "source": [
    "doc_centroid.reshape(1, -1)"
   ]
  },
  {
   "cell_type": "code",
   "execution_count": null,
   "id": "2b8a00a7-c1d7-4f01-aa41-6d3eb2e8acb1",
   "metadata": {},
   "outputs": [],
   "source": []
  }
 ],
 "metadata": {
  "environment": {
   "kernel": "conda-base-py",
   "name": "workbench-notebooks.m124",
   "type": "gcloud",
   "uri": "us-docker.pkg.dev/deeplearning-platform-release/gcr.io/workbench-notebooks:m124"
  },
  "kernelspec": {
   "display_name": "Python 3 (ipykernel) (Local)",
   "language": "python",
   "name": "conda-base-py"
  },
  "language_info": {
   "codemirror_mode": {
    "name": "ipython",
    "version": 3
   },
   "file_extension": ".py",
   "mimetype": "text/x-python",
   "name": "python",
   "nbconvert_exporter": "python",
   "pygments_lexer": "ipython3",
   "version": "3.10.14"
  }
 },
 "nbformat": 4,
 "nbformat_minor": 5
}
